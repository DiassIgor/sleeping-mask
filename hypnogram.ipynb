{
 "cells": [
  {
   "cell_type": "code",
   "execution_count": 15,
   "id": "ab78a04a-47dc-4810-8d17-f82c492f1173",
   "metadata": {},
   "outputs": [],
   "source": [
    "import functions\n",
    "import numpy as np\n",
    "import pandas as pd\n",
    "import matplotlib.pyplot as plt"
   ]
  },
  {
   "cell_type": "markdown",
   "id": "7ed7c2e1",
   "metadata": {},
   "source": [
    "A string that contains one character for each starting five minutes of the sleep period, so that the first period starts from sleep.bedtime.start: - '1' = deep (N3) sleep - '2' = light (N1 or N2) sleep - '3' = REM sleep - '4' = awake"
   ]
  },
  {
   "cell_type": "code",
   "execution_count": 16,
   "id": "d0ca20df",
   "metadata": {},
   "outputs": [],
   "source": [
    "sleep_data, heart_data = functions.data_request(start = '2023-09-29', end = '2023-10-09')"
   ]
  },
  {
   "cell_type": "code",
   "execution_count": 17,
   "id": "e48fc580",
   "metadata": {},
   "outputs": [
    {
     "data": {
      "text/plain": [
       "'44221211111124222222222242223333333224221222422224223333333322222222224223333443444422212222223333223222222422222333333332322222422422222233434'"
      ]
     },
     "execution_count": 17,
     "metadata": {},
     "output_type": "execute_result"
    }
   ],
   "source": [
    "sleep_data.json()['data'][0]['sleep_phase_5_min']"
   ]
  },
  {
   "cell_type": "code",
   "execution_count": 18,
   "id": "d83d5655",
   "metadata": {},
   "outputs": [
    {
     "data": {
      "text/plain": [
       "array([0, 0, 2, 2, 3, 2, 3, 3, 3, 3, 3, 3, 2, 0, 2, 2, 2, 2, 2, 2, 2, 2,\n",
       "       2, 2, 0, 2, 2, 2, 1, 1, 1, 1, 1, 1, 1, 2, 2, 0, 2, 2, 3, 2, 2, 2,\n",
       "       0, 2, 2, 2, 2, 0, 2, 2, 1, 1, 1, 1, 1, 1, 1, 1, 2, 2, 2, 2, 2, 2,\n",
       "       2, 2, 2, 2, 0, 2, 2, 1, 1, 1, 1, 0, 0, 1, 0, 0, 0, 0, 2, 2, 2, 3,\n",
       "       2, 2, 2, 2, 2, 2, 1, 1, 1, 1, 2, 2, 1, 2, 2, 2, 2, 2, 2, 0, 2, 2,\n",
       "       2, 2, 2, 1, 1, 1, 1, 1, 1, 1, 1, 2, 1, 2, 2, 2, 2, 2, 0, 2, 2, 0,\n",
       "       2, 2, 2, 2, 2, 2, 1, 1, 0, 1, 0])"
      ]
     },
     "execution_count": 18,
     "metadata": {},
     "output_type": "execute_result"
    }
   ],
   "source": [
    "hypno_str = sleep_data.json()['data'][0]['sleep_phase_5_min']\n",
    "hypno = pd.Series([int(elem) for elem in hypno_str]).map({1: 3, 2: 2, 3: 1, 4: 0}).values\n",
    "hypno"
   ]
  },
  {
   "cell_type": "code",
   "execution_count": 19,
   "id": "72d8be81",
   "metadata": {},
   "outputs": [],
   "source": [
    "sf_hypno=1 / 3000\n",
    "bins = np.arange(hypno.size + 1) / (sf_hypno * 3600)"
   ]
  },
  {
   "cell_type": "code",
   "execution_count": 20,
   "id": "782ae7a4",
   "metadata": {},
   "outputs": [],
   "source": [
    "old_fontsize = plt.rcParams[\"font.size\"]\n",
    "plt.rcParams.update({\"font.size\": 18})"
   ]
  },
  {
   "cell_type": "code",
   "execution_count": 21,
   "id": "3cde025e",
   "metadata": {},
   "outputs": [],
   "source": [
    "change_points = np.nonzero(np.ediff1d(hypno, to_end=1))\n",
    "hypno = hypno[change_points]\n",
    "bins = np.append(0, bins[change_points])"
   ]
  },
  {
   "cell_type": "code",
   "execution_count": 22,
   "id": "a63673e0",
   "metadata": {},
   "outputs": [
    {
     "data": {
      "text/plain": [
       "array([0, 2, 3, 2, 3, 2, 0, 2, 0, 2, 1, 2, 0, 2, 3, 2, 0, 2, 0, 2, 1, 2,\n",
       "       0, 2, 1, 0, 1, 0, 2, 3, 2, 1, 2, 1, 2, 0, 2, 1, 2, 1, 2, 0, 2, 0,\n",
       "       2, 1, 0, 1, 0])"
      ]
     },
     "execution_count": 22,
     "metadata": {},
     "output_type": "execute_result"
    }
   ],
   "source": [
    "hypno"
   ]
  },
  {
   "cell_type": "code",
   "execution_count": 23,
   "id": "a6d22768",
   "metadata": {},
   "outputs": [
    {
     "data": {
      "image/png": "[encoded data removed]",
      "text/plain": [
       "<Figure size 700x300 with 1 Axes>"
      ]
     },
     "metadata": {},
     "output_type": "display_data"
    }
   ],
   "source": [
    "fill_color = \"gainsboro\"\n",
    "lw = 1.5\n",
    "\n",
    "\n",
    "fig, ax = plt.subplots(1, 1, figsize=(7, 3), constrained_layout=True)\n",
    "\n",
    "# Start the plot\n",
    "ax = plt.gca()\n",
    "        \n",
    "# Draw background filling\n",
    "if fill_color is not None:\n",
    "    ax.stairs(-1 * hypno.clip(0), bins, fill=True, color=fill_color, lw=0)\n",
    "    \n",
    "# Draw main hypnogram line\n",
    "ax.stairs(-1 * hypno, bins, baseline=None, color=\"k\", lw=lw)\n",
    "    \n",
    "# No artefacts or Unscored\n",
    "ax.set_yticks([0, -1, -2, -3])\n",
    "ax.set_yticklabels([\"W\", \"R\", \"N1/N2\", \"N3\"])\n",
    "ax.set_ylim(-4.5, 0.5)\n",
    "ax.set_xlim(0, bins.max())\n",
    "ax.set_ylabel(\"Stage\")\n",
    "ax.set_xlabel(\"Time [hrs]\")\n",
    "ax.spines[\"right\"].set_visible(False)\n",
    "ax.spines[\"top\"].set_visible(False)\n",
    "# Revert font-size\n",
    "plt.rcParams.update({\"font.size\": old_fontsize})"
   ]
  },
  {
   "cell_type": "markdown",
   "id": "8ef9a32e",
   "metadata": {},
   "source": [
    "# Hypnogram v2"
   ]
  },
  {
   "cell_type": "code",
   "execution_count": 24,
   "id": "03684b4f",
   "metadata": {},
   "outputs": [
    {
     "data": {
      "text/plain": [
       "array([0, 2, 3, 2, 3, 2, 0, 2, 0, 2, 1, 2, 0, 2, 3, 2, 0, 2, 0, 2, 1, 2,\n",
       "       0, 2, 1, 0, 1, 0, 2, 3, 2, 1, 2, 1, 2, 0, 2, 1, 2, 1, 2, 0, 2, 0,\n",
       "       2, 1, 0, 1, 0])"
      ]
     },
     "execution_count": 24,
     "metadata": {},
     "output_type": "execute_result"
    }
   ],
   "source": [
    "hypno"
   ]
  },
  {
   "cell_type": "code",
   "execution_count": 25,
   "id": "d0353c82",
   "metadata": {},
   "outputs": [],
   "source": [
    "hypno_wake = (np.ma.masked_not_equal(hypno, 0), \"#d1d5db\")\n",
    "hypno_rem = (np.ma.masked_not_equal(hypno, 1), \"#72ccff\")\n",
    "hypno_n12 = (np.ma.masked_not_equal(hypno, 2), \"#448dc2\") \n",
    "hypno_n3 = (np.ma.masked_not_equal(hypno, 3), \"#24477b\")"
   ]
  },
  {
   "cell_type": "code",
   "execution_count": 26,
   "id": "f1eedbb2",
   "metadata": {},
   "outputs": [
    {
     "data": {
      "text/plain": [
       "50"
      ]
     },
     "execution_count": 26,
     "metadata": {},
     "output_type": "execute_result"
    }
   ],
   "source": [
    "len(bins)"
   ]
  },
  {
   "cell_type": "code",
   "execution_count": 27,
   "id": "36f8a179",
   "metadata": {},
   "outputs": [
    {
     "data": {
      "text/plain": [
       "49"
      ]
     },
     "execution_count": 27,
     "metadata": {},
     "output_type": "execute_result"
    }
   ],
   "source": [
    "len(hypno_rem[0])"
   ]
  },
  {
   "cell_type": "code",
   "execution_count": 43,
   "id": "7a526299",
   "metadata": {},
   "outputs": [
    {
     "data": {
      "image/png": "[encoded data removed]",
      "text/plain": [
       "<Figure size 700x300 with 1 Axes>"
      ]
     },
     "metadata": {},
     "output_type": "display_data"
    }
   ],
   "source": [
    "lw = 30\n",
    "fig, ax = plt.subplots(1, 1, figsize=(7, 3), constrained_layout=True)\n",
    "\n",
    "# Start the plot\n",
    "ax = plt.gca()\n",
    "\n",
    "# Draw main hypnogram line\n",
    "#ax.stairs(-1 * hypno, bins, baseline=None, color=\"k\", lw=lw)\n",
    "#ax.fill_between(bins[:-1], y1=hypno_rem[0], y2=np.array([0]*len(hypno_rem[0])), where = None, interpolate=False, facecolor=hypno_rem[1])\n",
    "\n",
    "ax.hlines(-1 * hypno_wake[0], xmin=bins[:-1], xmax=bins[1:], color=hypno_wake[1], lw=lw)\n",
    "ax.hlines(-1 * hypno_rem[0], xmin=bins[:-1], xmax=bins[1:], color=hypno_rem[1], lw=lw)\n",
    "ax.hlines(-1 * hypno_n12[0], xmin=bins[:-1], xmax=bins[1:], color=hypno_n12[1], lw=lw)\n",
    "ax.hlines(-1 * hypno_n3[0], xmin=bins[:-1], xmax=bins[1:], color=hypno_n3[1], lw=lw)\n",
    "\n",
    "\n",
    "# No artefacts or Unscored\n",
    "ax.set_yticks([0, -1, -2, -3])\n",
    "ax.set_yticklabels([\"Awake\", \"REM\", \"N1/N2\", \"N3\"])\n",
    "ax.set_ylim(-4.5, 0.5)\n",
    "ax.set_xlim(0, bins.max())\n",
    "ax.set_ylabel(\"Stage\")\n",
    "ax.set_xlabel(\"Time [hrs]\")\n",
    "ax.spines[\"right\"].set_visible(False)\n",
    "ax.spines[\"top\"].set_visible(False)\n",
    "# Revert font-size\n",
    "plt.rcParams.update({\"font.size\": old_fontsize})"
   ]
  },
  {
   "cell_type": "code",
   "execution_count": null,
   "id": "404ab397",
   "metadata": {},
   "outputs": [],
   "source": [
    "hypno_rem[0]"
   ]
  },
  {
   "cell_type": "code",
   "execution_count": null,
   "id": "5ef81027",
   "metadata": {},
   "outputs": [],
   "source": []
  },
  {
   "cell_type": "code",
   "execution_count": null,
   "id": "6785a62c",
   "metadata": {},
   "outputs": [],
   "source": []
  },
  {
   "cell_type": "code",
   "execution_count": null,
   "id": "bd264ea6",
   "metadata": {},
   "outputs": [],
   "source": []
  }
 ],
 "metadata": {
  "kernelspec": {
   "display_name": "Python 3 (ipykernel)",
   "language": "python",
   "name": "python3"
  },
  "language_info": {
   "codemirror_mode": {
    "name": "ipython",
    "version": 3
   },
   "file_extension": ".py",
   "mimetype": "text/x-python",
   "name": "python",
   "nbconvert_exporter": "python",
   "pygments_lexer": "ipython3",
   "version": "3.10.4"
  }
 },
 "nbformat": 4,
 "nbformat_minor": 5
}
